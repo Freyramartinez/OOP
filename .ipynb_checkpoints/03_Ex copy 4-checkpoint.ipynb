{
 "cells": [
  {
   "cell_type": "code",
   "execution_count": null,
   "metadata": {},
   "outputs": [],
   "source": []
  },
  {
   "cell_type": "markdown",
   "metadata": {},
   "source": [
    "## Clase Admin\n",
    "\n",
    "- **void say_id()**: Imprime:\n",
    "    -´Mi id es {self.id}´\n",
    "    -´Soy administrador´\n",
    "    "
   ]
  }
 ],
 "metadata": {
  "language_info": {
   "name": "python"
  }
 },
 "nbformat": 4,
 "nbformat_minor": 2
}
