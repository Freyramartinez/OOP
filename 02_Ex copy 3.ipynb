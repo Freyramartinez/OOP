{
 "cells": [
  {
   "cell_type": "markdown",
   "metadata": {},
   "source": [
    "<img src=\"./Diagramas_clases/02_create_class.png\" alt=\"Ex 2\" width =\"500\">"
   ]
  },
  {
   "cell_type": "markdown",
   "metadata": {},
   "source": [
    "- **void eat()**: Imprime 'Yummy yummy! estoy comiendo.'\n",
    "- **void neow()**: Imprime 'Soy un gato y hago meow!'.\n"
   ]
  },
  {
   "cell_type": "code",
   "execution_count": 1,
   "metadata": {},
   "outputs": [],
   "source": [
    "class Animal:\n",
    "    def eat(self):\n",
    "        print('Yummy yummy! estoy comiendo')\n",
    "\n",
    "\n",
    "class Cat(Animal):\n",
    "        def meow(self):\n",
    "             print('Soy un gato y hago meow!')\n",
    "\n",
    "class Dog(Animal):\n",
    "     def bark(self):\n",
    "          print('Soy un perro y hago woof!')                   "
   ]
  },
  {
   "cell_type": "code",
   "execution_count": 3,
   "metadata": {},
   "outputs": [
    {
     "name": "stdout",
     "output_type": "stream",
     "text": [
      "Soy un gato y hago meow!\n",
      "Yummy yummy! estoy comiendo\n",
      "Soy un perro y hago woof!\n",
      "Yummy yummy! estoy comiendo\n"
     ]
    }
   ],
   "source": [
    "michu = Cat()\n",
    "firulais = Dog()\n",
    "\n",
    "michu.meow()\n",
    "michu.eat()\n",
    "firulais.bark()\n",
    "firulais.eat()"
   ]
  }
 ],
 "metadata": {
  "kernelspec": {
   "display_name": "Python 3",
   "language": "python",
   "name": "python3"
  },
  "language_info": {
   "codemirror_mode": {
    "name": "ipython",
    "version": 3
   },
   "file_extension": ".py",
   "mimetype": "text/x-python",
   "name": "python",
   "nbconvert_exporter": "python",
   "pygments_lexer": "ipython3",
   "version": "3.9.6"
  }
 },
 "nbformat": 4,
 "nbformat_minor": 2
}
